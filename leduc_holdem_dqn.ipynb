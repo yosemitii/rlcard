{
 "cells": [
  {
   "cell_type": "markdown",
   "metadata": {
    "colab_type": "text",
    "id": "view-in-github"
   },
   "source": [
    "<a href=\"https://colab.research.google.com/github/mia1996/rlcard-tutoirial/blob/master/leduc_holdem_cfr.ipynb\" target=\"_parent\"><img src=\"https://colab.research.google.com/assets/colab-badge.svg\" alt=\"Open In Colab\"/></a>"
   ]
  },
  {
   "cell_type": "markdown",
   "metadata": {
    "id": "miBl4S8JARzX"
   },
   "source": [
    "\n",
    "\n",
    "# <a href='https://github.com/datamllab/rlcard'> <center> <img src='https://miro.medium.com/max/1000/1*_9abDpNTM9Cbsd2HEXYm9Q.png' width=500 class='center' /></a> \n",
    "\n",
    "## **Training CFR on Leduc Hold'em**\n",
    "In this tutorial, we will showcase a more advanced algorithm CFR, which uses `step` and `step_back` to traverse the game tree."
   ]
  },
  {
   "cell_type": "markdown",
   "metadata": {
    "id": "DvSQRtFHfQde"
   },
   "source": [
    "First, we install RLcard and PyTorch."
   ]
  },
  {
   "cell_type": "code",
   "execution_count": 1,
   "metadata": {
    "colab": {
     "base_uri": "https://localhost:8080/"
    },
    "id": "zQ8CiXAJjQGi",
    "outputId": "f62f9be2-2b1e-4d34-a254-a5ddef2f5962",
    "ExecuteTime": {
     "end_time": "2024-05-01T00:20:40.831624Z",
     "start_time": "2024-05-01T00:20:27.964621Z"
    }
   },
   "outputs": [
    {
     "name": "stdout",
     "output_type": "stream",
     "text": [
      "Collecting rlcard[torch]\r\n",
      "  Using cached rlcard-1.2.0.tar.gz (269 kB)\r\n",
      "  Preparing metadata (setup.py) ... \u001B[?25ldone\r\n",
      "\u001B[?25hRequirement already satisfied: numpy>=1.16.3 in /Users/sun/anaconda3/lib/python3.11/site-packages (from rlcard[torch]) (1.26.2)\r\n",
      "Collecting termcolor (from rlcard[torch])\r\n",
      "  Obtaining dependency information for termcolor from https://files.pythonhosted.org/packages/d9/5f/8c716e47b3a50cbd7c146f45881e11d9414def768b7cd9c5e6650ec2a80a/termcolor-2.4.0-py3-none-any.whl.metadata\r\n",
      "  Downloading termcolor-2.4.0-py3-none-any.whl.metadata (6.1 kB)\r\n",
      "Collecting torch (from rlcard[torch])\r\n",
      "  Obtaining dependency information for torch from https://files.pythonhosted.org/packages/ad/08/c5e41eb22323db4a52260607598a207a2e1918916ae8201aa7a8ae005fcd/torch-2.3.0-cp311-none-macosx_11_0_arm64.whl.metadata\r\n",
      "  Downloading torch-2.3.0-cp311-none-macosx_11_0_arm64.whl.metadata (26 kB)\r\n",
      "Collecting GitPython (from rlcard[torch])\r\n",
      "  Obtaining dependency information for GitPython from https://files.pythonhosted.org/packages/e9/bd/cc3a402a6439c15c3d4294333e13042b915bbeab54edc457c723931fed3f/GitPython-3.1.43-py3-none-any.whl.metadata\r\n",
      "  Downloading GitPython-3.1.43-py3-none-any.whl.metadata (13 kB)\r\n",
      "Collecting gitdb2 (from rlcard[torch])\r\n",
      "  Obtaining dependency information for gitdb2 from https://files.pythonhosted.org/packages/52/7e/59f96b47f671b3fe0aa0c1b609531a540434b719a10c417581e25b383909/gitdb2-4.0.2-py3-none-any.whl.metadata\r\n",
      "  Downloading gitdb2-4.0.2-py3-none-any.whl.metadata (383 bytes)\r\n",
      "Requirement already satisfied: matplotlib in /Users/sun/anaconda3/lib/python3.11/site-packages (from rlcard[torch]) (3.8.0)\r\n",
      "Collecting gitdb>=4.0.1 (from gitdb2->rlcard[torch])\r\n",
      "  Obtaining dependency information for gitdb>=4.0.1 from https://files.pythonhosted.org/packages/fd/5b/8f0c4a5bb9fd491c277c21eff7ccae71b47d43c4446c9d0c6cff2fe8c2c4/gitdb-4.0.11-py3-none-any.whl.metadata\r\n",
      "  Downloading gitdb-4.0.11-py3-none-any.whl.metadata (1.2 kB)\r\n",
      "Requirement already satisfied: contourpy>=1.0.1 in /Users/sun/anaconda3/lib/python3.11/site-packages (from matplotlib->rlcard[torch]) (1.2.0)\r\n",
      "Requirement already satisfied: cycler>=0.10 in /Users/sun/anaconda3/lib/python3.11/site-packages (from matplotlib->rlcard[torch]) (0.11.0)\r\n",
      "Requirement already satisfied: fonttools>=4.22.0 in /Users/sun/anaconda3/lib/python3.11/site-packages (from matplotlib->rlcard[torch]) (4.25.0)\r\n",
      "Requirement already satisfied: kiwisolver>=1.0.1 in /Users/sun/anaconda3/lib/python3.11/site-packages (from matplotlib->rlcard[torch]) (1.4.4)\r\n",
      "Requirement already satisfied: packaging>=20.0 in /Users/sun/anaconda3/lib/python3.11/site-packages (from matplotlib->rlcard[torch]) (23.1)\r\n",
      "Requirement already satisfied: pillow>=6.2.0 in /Users/sun/anaconda3/lib/python3.11/site-packages (from matplotlib->rlcard[torch]) (10.0.1)\r\n",
      "Requirement already satisfied: pyparsing>=2.3.1 in /Users/sun/anaconda3/lib/python3.11/site-packages (from matplotlib->rlcard[torch]) (3.0.9)\r\n",
      "Requirement already satisfied: python-dateutil>=2.7 in /Users/sun/anaconda3/lib/python3.11/site-packages (from matplotlib->rlcard[torch]) (2.8.2)\r\n",
      "Requirement already satisfied: filelock in /Users/sun/anaconda3/lib/python3.11/site-packages (from torch->rlcard[torch]) (3.13.1)\r\n",
      "Collecting typing-extensions>=4.8.0 (from torch->rlcard[torch])\r\n",
      "  Obtaining dependency information for typing-extensions>=4.8.0 from https://files.pythonhosted.org/packages/01/f3/936e209267d6ef7510322191003885de524fc48d1b43269810cd589ceaf5/typing_extensions-4.11.0-py3-none-any.whl.metadata\r\n",
      "  Downloading typing_extensions-4.11.0-py3-none-any.whl.metadata (3.0 kB)\r\n",
      "Collecting sympy (from torch->rlcard[torch])\r\n",
      "  Obtaining dependency information for sympy from https://files.pythonhosted.org/packages/d2/05/e6600db80270777c4a64238a98d442f0fd07cc8915be2a1c16da7f2b9e74/sympy-1.12-py3-none-any.whl.metadata\r\n",
      "  Downloading sympy-1.12-py3-none-any.whl.metadata (12 kB)\r\n",
      "Requirement already satisfied: networkx in /Users/sun/anaconda3/lib/python3.11/site-packages (from torch->rlcard[torch]) (3.1)\r\n",
      "Requirement already satisfied: jinja2 in /Users/sun/anaconda3/lib/python3.11/site-packages (from torch->rlcard[torch]) (3.1.2)\r\n",
      "Requirement already satisfied: fsspec in /Users/sun/anaconda3/lib/python3.11/site-packages (from torch->rlcard[torch]) (2023.10.0)\r\n",
      "Collecting smmap<6,>=3.0.1 (from gitdb>=4.0.1->gitdb2->rlcard[torch])\r\n",
      "  Obtaining dependency information for smmap<6,>=3.0.1 from https://files.pythonhosted.org/packages/a7/a5/10f97f73544edcdef54409f1d839f6049a0d79df68adbc1ceb24d1aaca42/smmap-5.0.1-py3-none-any.whl.metadata\r\n",
      "  Downloading smmap-5.0.1-py3-none-any.whl.metadata (4.3 kB)\r\n",
      "Requirement already satisfied: six>=1.5 in /Users/sun/anaconda3/lib/python3.11/site-packages (from python-dateutil>=2.7->matplotlib->rlcard[torch]) (1.16.0)\r\n",
      "Requirement already satisfied: MarkupSafe>=2.0 in /Users/sun/anaconda3/lib/python3.11/site-packages (from jinja2->torch->rlcard[torch]) (2.1.1)\r\n",
      "Collecting mpmath>=0.19 (from sympy->torch->rlcard[torch])\r\n",
      "  Obtaining dependency information for mpmath>=0.19 from https://files.pythonhosted.org/packages/43/e3/7d92a15f894aa0c9c4b49b8ee9ac9850d6e63b03c9c32c0367a13ae62209/mpmath-1.3.0-py3-none-any.whl.metadata\r\n",
      "  Downloading mpmath-1.3.0-py3-none-any.whl.metadata (8.6 kB)\r\n",
      "Using cached gitdb2-4.0.2-py3-none-any.whl (1.1 kB)\r\n",
      "Using cached GitPython-3.1.43-py3-none-any.whl (207 kB)\r\n",
      "Using cached termcolor-2.4.0-py3-none-any.whl (7.7 kB)\r\n",
      "Downloading torch-2.3.0-cp311-none-macosx_11_0_arm64.whl (61.0 MB)\r\n",
      "\u001B[2K   \u001B[90m━━━━━━━━━━━━━━━━━━━━━━━━━━━━━━━━━━━━━━━━\u001B[0m \u001B[32m61.0/61.0 MB\u001B[0m \u001B[31m14.4 MB/s\u001B[0m eta \u001B[36m0:00:00\u001B[0m00:01\u001B[0m00:01\u001B[0m\r\n",
      "\u001B[?25hUsing cached gitdb-4.0.11-py3-none-any.whl (62 kB)\r\n",
      "Using cached typing_extensions-4.11.0-py3-none-any.whl (34 kB)\r\n",
      "Using cached sympy-1.12-py3-none-any.whl (5.7 MB)\r\n",
      "Using cached mpmath-1.3.0-py3-none-any.whl (536 kB)\r\n",
      "Using cached smmap-5.0.1-py3-none-any.whl (24 kB)\r\n",
      "Building wheels for collected packages: rlcard\r\n",
      "  Building wheel for rlcard (setup.py) ... \u001B[?25ldone\r\n",
      "\u001B[?25h  Created wheel for rlcard: filename=rlcard-1.2.0-py3-none-any.whl size=325797 sha256=0e72e604c17e839f2e9e333867375047ce3dc890efd2d13db8f82a15c797e2d5\r\n",
      "  Stored in directory: /Users/sun/Library/Caches/pip/wheels/05/85/10/9ce42203776b06686ffe36d932983a79be6dfa95638ecf500b\r\n",
      "Successfully built rlcard\r\n",
      "Installing collected packages: mpmath, typing-extensions, termcolor, sympy, smmap, torch, rlcard, gitdb, GitPython, gitdb2\r\n",
      "  Attempting uninstall: typing-extensions\r\n",
      "    Found existing installation: typing_extensions 4.7.1\r\n",
      "    Uninstalling typing_extensions-4.7.1:\r\n",
      "      Successfully uninstalled typing_extensions-4.7.1\r\n",
      "\u001B[31mERROR: pip's dependency resolver does not currently take into account all the packages that are installed. This behaviour is the source of the following dependency conflicts.\r\n",
      "refinitiv-data 1.5.0 requires watchdog<=2.1.9,>=0.10.2, which is not installed.\r\n",
      "refinitiv-data 1.5.0 requires numpy<=1.23.4,>=1.11.0, but you have numpy 1.26.2 which is incompatible.\r\n",
      "refinitiv-data 1.5.0 requires pandas<=2.0.2,>=1.3.5, but you have pandas 2.1.4 which is incompatible.\r\n",
      "refinitiv-data 1.5.0 requires requests<=2.28.1, but you have requests 2.31.0 which is incompatible.\r\n",
      "refinitiv-data 1.5.0 requires scipy<=1.9.3, but you have scipy 1.11.4 which is incompatible.\u001B[0m\u001B[31m\r\n",
      "\u001B[0mSuccessfully installed GitPython-3.1.43 gitdb-4.0.11 gitdb2-4.0.2 mpmath-1.3.0 rlcard-1.2.0 smmap-5.0.1 sympy-1.12 termcolor-2.4.0 torch-2.3.0 typing-extensions-4.11.0\r\n"
     ]
    }
   ],
   "source": [
    "!pip install 'rlcard[torch]'"
   ]
  },
  {
   "cell_type": "markdown",
   "metadata": {
    "id": "0ToWVZr881JH"
   },
   "source": [
    "Then we import all the classes and functions we need."
   ]
  },
  {
   "cell_type": "code",
   "execution_count": 1,
   "metadata": {
    "id": "pfmdahQ_86_W",
    "ExecuteTime": {
     "end_time": "2024-05-01T01:20:13.647894Z",
     "start_time": "2024-05-01T01:20:12.483744Z"
    }
   },
   "outputs": [],
   "source": [
    "import rlcard\n",
    "from rlcard.agents import (\n",
    "    DQNAgent,\n",
    "    RandomAgent,\n",
    ")\n",
    "from rlcard.utils import (\n",
    "    tournament,\n",
    "    Logger,\n",
    "    plot_curve,\n",
    ")"
   ]
  },
  {
   "cell_type": "markdown",
   "metadata": {
    "id": "dRXGan5w9BLT"
   },
   "source": [
    "We make two environments, where one allows `step_back` so that CFR can traverse the tree, and the other for evaluation only."
   ]
  },
  {
   "cell_type": "code",
   "execution_count": 2,
   "metadata": {
    "id": "oN7k8icR89iB",
    "ExecuteTime": {
     "end_time": "2024-05-01T01:20:16.123804Z",
     "start_time": "2024-05-01T01:20:16.119718Z"
    }
   },
   "outputs": [],
   "source": [
    "env = rlcard.make(\n",
    "        'limit-holdem',\n",
    "        config={\n",
    "            'allow_step_back': True,\n",
    "        }\n",
    "    )\n",
    "eval_env = rlcard.make(\n",
    "    'limit-holdem',\n",
    ")"
   ]
  },
  {
   "cell_type": "markdown",
   "metadata": {
    "id": "qd5fe5W_9Ukz"
   },
   "source": [
    "We create the CFR agent."
   ]
  },
  {
   "cell_type": "code",
   "execution_count": 10,
   "metadata": {
    "id": "4_A_Br3Jj0xW",
    "ExecuteTime": {
     "end_time": "2024-05-01T01:24:00.971703Z",
     "start_time": "2024-05-01T01:24:00.589357Z"
    }
   },
   "outputs": [],
   "source": [
    "agent = DQNAgent(\n",
    "    num_actions=env.num_actions,\n",
    "    state_shape=env.state_shape[0],\n",
    "    mlp_layers=[64,64],\n",
    "    save_path=\"experiments/dqn/dqn_model\")"
   ]
  },
  {
   "cell_type": "markdown",
   "metadata": {
    "id": "yYvb4MDz9qH6"
   },
   "source": [
    "Here, we save the trained model in the path `experiments/leduc_holdem_cfr_result/cfr_model`. Then we use a random agent as the opponent."
   ]
  },
  {
   "cell_type": "code",
   "execution_count": 17,
   "metadata": {
    "id": "C4cq5mA-90W_",
    "ExecuteTime": {
     "end_time": "2024-05-01T01:30:49.709436Z",
     "start_time": "2024-05-01T01:30:49.705590Z"
    }
   },
   "outputs": [],
   "source": [
    "env.set_agents([agent, RandomAgent(num_actions=env.num_actions),])"
   ]
  },
  {
   "cell_type": "code",
   "execution_count": 18,
   "outputs": [],
   "source": [
    "from rlcard.utils import (\n",
    "    tournament,\n",
    "    reorganize,\n",
    "    Logger,\n",
    "    plot_curve,\n",
    ")\n",
    "    "
   ],
   "metadata": {
    "collapsed": false,
    "ExecuteTime": {
     "end_time": "2024-05-01T01:30:51.616993Z",
     "start_time": "2024-05-01T01:30:51.614670Z"
    }
   }
  },
  {
   "cell_type": "markdown",
   "metadata": {
    "id": "QOMi0W94fSH7"
   },
   "source": [
    "Now we start training for `1000` iterations, i.e., 1000 games."
   ]
  },
  {
   "cell_type": "code",
   "execution_count": 19,
   "metadata": {
    "colab": {
     "base_uri": "https://localhost:8080/"
    },
    "id": "MTbACbO4-D_c",
    "outputId": "f3841a04-9990-405c-a162-846f97abf816",
    "ExecuteTime": {
     "end_time": "2024-05-01T01:31:27.281283Z",
     "start_time": "2024-05-01T01:30:53.165328Z"
    }
   },
   "outputs": [
    {
     "name": "stdout",
     "output_type": "stream",
     "text": [
      "Iteration 0\n",
      "----------------------------------------\n",
      "  episode      |  6\n",
      "  reward       |  0.9845\n",
      "----------------------------------------\n",
      "Iteration 50\n",
      "----------------------------------------\n",
      "  episode      |  171\n",
      "  reward       |  0.99095\n",
      "----------------------------------------\n",
      "INFO - Step 100, rl-loss: 3.0002665519714355\n",
      "INFO - Copied model parameters to target network.\n",
      "Iteration 10066, rl-loss: 2.3389799594879157\n",
      "----------------------------------------\n",
      "  episode      |  331\n",
      "  reward       |  0.4182\n",
      "----------------------------------------\n",
      "Iteration 15038, rl-loss: 3.3335738182067872\n",
      "----------------------------------------\n",
      "  episode      |  478\n",
      "  reward       |  0.4448\n",
      "----------------------------------------\n",
      "Iteration 20022, rl-loss: 3.5135962963104256\n",
      "----------------------------------------\n",
      "  episode      |  649\n",
      "  reward       |  0.5594\n",
      "----------------------------------------\n",
      "Iteration 25001, rl-loss: 5.0693311691284181\n",
      "----------------------------------------\n",
      "  episode      |  803\n",
      "  reward       |  0.61585\n",
      "----------------------------------------\n",
      "Iteration 30074, rl-loss: 3.7899005413055424\n",
      "----------------------------------------\n",
      "  episode      |  952\n",
      "  reward       |  0.7158\n",
      "----------------------------------------\n",
      "Iteration 35068, rl-loss: 1.6155538558959966\n",
      "----------------------------------------\n",
      "  episode      |  1138\n",
      "  reward       |  1.11305\n",
      "----------------------------------------\n",
      "Iteration 40041, rl-loss: 6.6489210128784188\n",
      "----------------------------------------\n",
      "  episode      |  1283\n",
      "  reward       |  1.09005\n",
      "----------------------------------------\n",
      "Iteration 45014, rl-loss: 1.9962253570556647\n",
      "----------------------------------------\n",
      "  episode      |  1429\n",
      "  reward       |  0.98\n",
      "----------------------------------------\n",
      "Iteration 50081, rl-loss: 1.1771918535232544\n",
      "----------------------------------------\n",
      "  episode      |  1563\n",
      "  reward       |  1.21425\n",
      "----------------------------------------\n",
      "Iteration 55060, rl-loss: 1.7691792249679565\n",
      "----------------------------------------\n",
      "  episode      |  1718\n",
      "  reward       |  1.31295\n",
      "----------------------------------------\n",
      "Iteration 60036, rl-loss: 1.3245915174484253\n",
      "----------------------------------------\n",
      "  episode      |  1869\n",
      "  reward       |  1.28365\n",
      "----------------------------------------\n",
      "Iteration 650025, rl-loss: 1.7059524059295654\n",
      "----------------------------------------\n",
      "  episode      |  2039\n",
      "  reward       |  1.3747\n",
      "----------------------------------------\n",
      "INFO - Step 1100, rl-loss: 1.1975184679031372\n",
      "INFO - Copied model parameters to target network.\n",
      "Iteration 700108, rl-loss: 1.2114634513854987\n",
      "----------------------------------------\n",
      "  episode      |  2208\n",
      "  reward       |  1.5214\n",
      "----------------------------------------\n",
      "Iteration 750186, rl-loss: 1.7831475734710693\n",
      "----------------------------------------\n",
      "  episode      |  2361\n",
      "  reward       |  1.61315\n",
      "----------------------------------------\n",
      "Iteration 800260, rl-loss: 1.6213229894638062\n",
      "----------------------------------------\n",
      "  episode      |  2508\n",
      "  reward       |  1.6599\n",
      "----------------------------------------\n",
      "Iteration 850342, rl-loss: 1.3838820457458496\n",
      "----------------------------------------\n",
      "  episode      |  2670\n",
      "  reward       |  1.73285\n",
      "----------------------------------------\n",
      "Iteration 900434, rl-loss: 3.85010623931884776\n",
      "----------------------------------------\n",
      "  episode      |  2856\n",
      "  reward       |  1.681\n",
      "----------------------------------------\n",
      "Iteration 950510, rl-loss: 4.20342779159545956\n",
      "----------------------------------------\n",
      "  episode      |  3004\n",
      "  reward       |  1.73605\n",
      "----------------------------------------\n",
      "Iteration 999583, rl-loss: 0.64206635951995856\n",
      "Logs saved in experiments/limit_holdem_cfr_result\n"
     ]
    }
   ],
   "source": [
    "with Logger(\"experiments/limit_holdem_cfr_result\") as logger:\n",
    "    for episode in range(1000):\n",
    "        trajectories, payoffs = env.run(is_training=True)\n",
    "        trajectories = reorganize(trajectories, payoffs)\n",
    "        for ts in trajectories[0]:\n",
    "            agent.feed(ts)\n",
    "        # agent.train()\n",
    "        print('\\rIteration {}'.format(episode), end='')\n",
    "        # Evaluate the performance. Play with Random agents.\n",
    "        if episode % 50 == 0:\n",
    "            logger.log_performance(\n",
    "                env.timestep,\n",
    "                tournament(\n",
    "                    eval_env,\n",
    "                    10000,\n",
    "                )[0]\n",
    "            )\n",
    "\n",
    "    # Get the paths\n",
    "    csv_path, fig_path = logger.csv_path, logger.fig_path"
   ]
  },
  {
   "cell_type": "markdown",
   "metadata": {
    "id": "d-qU4hS4-hI5"
   },
   "source": [
    "We can plot the learning curve"
   ]
  },
  {
   "cell_type": "code",
   "execution_count": 21,
   "metadata": {
    "colab": {
     "base_uri": "https://localhost:8080/",
     "height": 279
    },
    "id": "l_8Kuf47kghG",
    "outputId": "f6bc9709-e500-492c-9e88-348532ed5450",
    "ExecuteTime": {
     "end_time": "2024-05-01T01:32:21.561904Z",
     "start_time": "2024-05-01T01:32:21.475938Z"
    }
   },
   "outputs": [
    {
     "ename": "AttributeError",
     "evalue": "'DQNAgent' object has no attribute 'save'",
     "output_type": "error",
     "traceback": [
      "\u001B[0;31m---------------------------------------------------------------------------\u001B[0m",
      "\u001B[0;31mAttributeError\u001B[0m                            Traceback (most recent call last)",
      "Cell \u001B[0;32mIn[21], line 2\u001B[0m\n\u001B[1;32m      1\u001B[0m plot_curve(csv_path, fig_path, \u001B[38;5;124m'\u001B[39m\u001B[38;5;124mDQN\u001B[39m\u001B[38;5;124m'\u001B[39m)\n\u001B[0;32m----> 2\u001B[0m agent\u001B[38;5;241m.\u001B[39msave()\n",
      "\u001B[0;31mAttributeError\u001B[0m: 'DQNAgent' object has no attribute 'save'"
     ]
    },
    {
     "data": {
      "text/plain": "<Figure size 640x480 with 1 Axes>",
      "image/png": "[encoded data removed]"
     },
     "metadata": {},
     "output_type": "display_data"
    }
   ],
   "source": [
    "plot_curve(csv_path, fig_path, 'DQN')\n",
    "agent.save()"
   ]
  },
  {
   "cell_type": "markdown",
   "metadata": {
    "id": "1QRAbZ3vfwtW"
   },
   "source": [
    "Good job! Now you have your trained CFR agent on Leduc Hold'em!"
   ]
  }
 ],
 "metadata": {
  "colab": {
   "collapsed_sections": [],
   "include_colab_link": true,
   "name": "leduc_holdem_cfr.ipynb",
   "provenance": []
  },
  "kernelspec": {
   "name": "python3",
   "language": "python",
   "display_name": "Python 3 (ipykernel)"
  },
  "language_info": {
   "codemirror_mode": {
    "name": "ipython",
    "version": 3
   },
   "file_extension": ".py",
   "mimetype": "text/x-python",
   "name": "python",
   "nbconvert_exporter": "python",
   "pygments_lexer": "ipython3",
   "version": "3.11.7"
  }
 },
 "nbformat": 4,
 "nbformat_minor": 0
}
